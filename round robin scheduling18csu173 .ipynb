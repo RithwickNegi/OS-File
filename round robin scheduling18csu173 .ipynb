{
 "cells": [
  {
   "cell_type": "code",
   "execution_count": 1,
   "metadata": {},
   "outputs": [],
   "source": [
    "# Method to find turn around time\n",
    "def findTurnAroundTime(num,bt,wt,tat):\n",
    "    for i in range(0,num):\n",
    "        tat[i]=bt[i]+wt[i]"
   ]
  },
  {
   "cell_type": "code",
   "execution_count": 2,
   "metadata": {},
   "outputs": [
    {
     "name": "stdout",
     "output_type": "stream",
     "text": [
      "Enter number of processes: 3\n",
      "\n",
      "ENTER DETAILS OF PROCESS  1  : \n",
      "Enter burst time : 2\n",
      "\n",
      "ENTER DETAILS OF PROCESS  2  : \n",
      "Enter burst time : 3\n",
      "\n",
      "ENTER DETAILS OF PROCESS  3  : \n",
      "Enter burst time : 4\n",
      "Enter time quantum : 5\n"
     ]
    }
   ],
   "source": [
    "num=int(input(\"Enter number of processes: \"))\n",
    "\n",
    "wt=[0]*num\n",
    "rem_bt=list(range(0,num))\n",
    "t=0\n",
    "tat=list(range(0,num))\n",
    "bt=list(range(0,num))\n",
    "\n",
    "\n",
    "for i in range(0,num):\n",
    "    print(\"\\nENTER DETAILS OF PROCESS \",i+1,\" : \")\n",
    "    bt[i]=int(input(\"Enter burst time : \"))\n",
    "    rem_bt[i]=bt[i]\n",
    "quantum=int(input(\"Enter time quantum : \"))\n",
    "\n",
    "\n",
    "while(True):\n",
    "    flag=True\n",
    "    for i in range (0,num):\n",
    "        if (rem_bt[i]>0):\n",
    "            flag=False\n",
    "            if (rem_bt[i] > quantum):\n",
    "                t=t+quantum\n",
    "                rem_bt[i]-=quantum\n",
    "            else:\n",
    "                t=t+rem_bt[i]\n",
    "                wt[i]=t-bt[i]\n",
    "                rem_bt[i]=0\n",
    "    if(flag==True):\n",
    "        break\n",
    "\n",
    "findTurnAroundTime(num,bt,wt,tat)"
   ]
  },
  {
   "cell_type": "code",
   "execution_count": 3,
   "metadata": {},
   "outputs": [
    {
     "name": "stdout",
     "output_type": "stream",
     "text": [
      "PROCESS ID\tBURST TIME\tWAITING TIME\t TURN AROUND TIME\n",
      "1 \t\t 2 \t\t 0 \t\t 2\n",
      "2 \t\t 3 \t\t 2 \t\t 5\n",
      "3 \t\t 4 \t\t 5 \t\t 9\n",
      "\n",
      "Average waiting time =  2.3333333333333335\n",
      "Average turn around time =  5.333333333333333\n"
     ]
    }
   ],
   "source": [
    "print(\"PROCESS ID\\tBURST TIME\\tWAITING TIME\\t TURN AROUND TIME\")\n",
    "for i in range(0,num):\n",
    "    print(i+1,\"\\t\\t\",bt[i],\"\\t\\t\",wt[i],\"\\t\\t\",tat[i])\n",
    "print(\"\\nAverage waiting time = \",sum(wt)/num)\n",
    "print(\"Average turn around time = \",sum(tat)/num)  "
   ]
  },
  {
   "cell_type": "code",
   "execution_count": null,
   "metadata": {},
   "outputs": [],
   "source": []
  }
 ],
 "metadata": {
  "kernelspec": {
   "display_name": "Python 3",
   "language": "python",
   "name": "python3"
  },
  "language_info": {
   "codemirror_mode": {
    "name": "ipython",
    "version": 3
   },
   "file_extension": ".py",
   "mimetype": "text/x-python",
   "name": "python",
   "nbconvert_exporter": "python",
   "pygments_lexer": "ipython3",
   "version": "3.8.3"
  }
 },
 "nbformat": 4,
 "nbformat_minor": 4
}
