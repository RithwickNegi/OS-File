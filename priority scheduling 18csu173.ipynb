{
 "cells": [
  {
   "cell_type": "code",
   "execution_count": null,
   "metadata": {},
   "outputs": [],
   "source": [
    "import numpy"
   ]
  },
  {
   "cell_type": "code",
   "execution_count": null,
   "metadata": {},
   "outputs": [],
   "source": [
    "def PriorityScheduling(process):\n",
    "    process=sorted(process,key=lambda process:process[2],reverse=True)\n",
    "    global wt\n",
    "    wt=[0]*num\n",
    "    WaitingTime(process,num,wt)\n",
    "    global tat\n",
    "    tat=[0]*num\n",
    "    TurnAroundTime(process,num,wt,tat)"
   ]
  },
  {
   "cell_type": "code",
   "execution_count": null,
   "metadata": {},
   "outputs": [],
   "source": [
    "def WaitingTime(process,num,wt):  \n",
    "    wt[0] = 0  \n",
    "    for i in range(1, num):  \n",
    "        wt[i] = process[i-1][1] + wt[i-1]  "
   ]
  },
  {
   "cell_type": "code",
   "execution_count": null,
   "metadata": {},
   "outputs": [],
   "source": [
    "def TurnAroundTime(process,num,wt,tat):   \n",
    "    for i in range(num): \n",
    "        tat[i] = process[i][1] + wt[i]"
   ]
  },
  {
   "cell_type": "code",
   "execution_count": null,
   "metadata": {},
   "outputs": [],
   "source": [
    "print(\"Enter number of processes : \")\n",
    "num=int(input())\n",
    "process=numpy.zeros((num,3)).astype(int)\n",
    "for i in range(0,num):\n",
    "    print(\"Process \",i+1)\n",
    "    print(\"Enter process ID : \")\n",
    "    process[i][0]=int(input())\n",
    "    print(\"Enter burst time : \")\n",
    "    process[i][1]=int(input())\n",
    "    print(\"Enter priority : \")\n",
    "    process[i][2]=int(input())\n",
    "PriorityScheduling(process)\n",
    "print(\"\\nORDER OF EXECUTION : \")\n",
    "\n",
    "\n",
    "for proc in process: \n",
    "        print(proc[0], end = \" \") \n",
    "print(\"\\nPROCESS ID\\tBURST TIME\\tWAITING TIME\\tTURN AROUND \")\n",
    "\n",
    "\n",
    "for i in range (0,num):\n",
    "    print(process[i][0],\"\\t\\t\",process[i][1],\"\\t\\t\",wt[i],\"\\t\\t\",tat[i])\n",
    "print(\"\\nAverage waiting time = \",(sum(wt)/num))\n",
    "print(\"Average turn around time = \",(sum(tat)/num))"
   ]
  },
  {
   "cell_type": "code",
   "execution_count": null,
   "metadata": {},
   "outputs": [],
   "source": []
  }
 ],
 "metadata": {
  "kernelspec": {
   "display_name": "Python 3",
   "language": "python",
   "name": "python3"
  },
  "language_info": {
   "codemirror_mode": {
    "name": "ipython",
    "version": 3
   },
   "file_extension": ".py",
   "mimetype": "text/x-python",
   "name": "python",
   "nbconvert_exporter": "python",
   "pygments_lexer": "ipython3",
   "version": "3.6.10"
  }
 },
 "nbformat": 4,
 "nbformat_minor": 4
}
